{
  "nbformat": 4,
  "nbformat_minor": 0,
  "metadata": {
    "colab": {
      "name": "KNN Algorithm의 사본",
      "provenance": [],
      "collapsed_sections": [],
      "include_colab_link": true
    },
    "kernelspec": {
      "name": "python3",
      "display_name": "Python 3"
    }
  },
  "cells": [
    {
      "cell_type": "markdown",
      "metadata": {
        "id": "view-in-github",
        "colab_type": "text"
      },
      "source": [
        "<a href=\"https://colab.research.google.com/github/UknowYunmo/Image-Processing/blob/main/12-Knn%20%EC%95%8C%EA%B3%A0%EB%A6%AC%EC%A6%98.ipynb\" target=\"_parent\"><img src=\"https://colab.research.google.com/assets/colab-badge.svg\" alt=\"Open In Colab\"/></a>"
      ]
    },
    {
      "cell_type": "markdown",
      "metadata": {
        "id": "3kbmRDiPv4P_"
      },
      "source": [
        "K-Nearest Neighbor\n",
        "\n",
        "* KNN은 지도학습(Unsupervised Learning)의 가장 간단한 예시\n",
        "* 다양한 레이블의 데이터 중에서 자신과 가까운 데이터를 찾아 자신의 레이블을 결정하는 방식"
      ]
    },
    {
      "cell_type": "code",
      "metadata": {
        "id": "Kce7P2rKtmxe",
        "colab": {
          "base_uri": "https://localhost:8080/",
          "height": 337
        },
        "outputId": "b222d448-b220-4827-b5e8-fd289d7ea4e9"
      },
      "source": [
        "import cv2\n",
        "import numpy as np\n",
        "from matplotlib import pyplot as plt\n",
        "\n",
        "trainData = np.random.randint(0, 100, (25, 2)).astype(np.float32) # 0~99 중 랜덤하게 x,y축(2개)씩 뽑는 요소가 25개\n",
        "response = np.random.randint(0, 2, (25, 1)).astype(np.float32) # 0,1 중 랜덤하게 1개의 레이블(네모 or 삼각형)\n",
        "#print(trainData)\n",
        "\n",
        "red = trainData[response.ravel() == 0] # 레이블에 따라 변수 선언\n",
        "plt.scatter(red[:, 0], red[:, 1], 80, 'r', '^')\n",
        "blue = trainData[response.ravel() == 1]\n",
        "plt.scatter(blue[:, 0], blue[:, 1], 80, 'b', 's')\n",
        "\n",
        "# (0 ~ 100, 0 ~ 100) 위치의 한 개의 새로운 데이터 추가\n",
        "newcomer = np.random.randint(0, 100, (1, 2)).astype(np.float32)\n",
        "plt.scatter(newcomer[:, 0], newcomer[:, 1], 80, 'g', 'o')\n",
        "\n",
        "knn = cv2.ml.KNearest_create()\n",
        "knn.train(trainData, cv2.ml.ROW_SAMPLE, response)\n",
        "ret, results, neighbours, dist = knn.findNearest(newcomer, 3)\n",
        "\n",
        "# 가까운 3개를 찾고, 거리를 고려하여 자신을 결정\n",
        "print(ret)\n",
        "print(\"result : \", results) # 최종 결정된 자신의 레이블(0 or 1)\n",
        "print(\"neighbours :\", neighbours) # 가까운 3개의 레이블\n",
        "print(\"distance: \", dist) # 3개와의 각각의 거리\n",
        "\n",
        "plt.show()"
      ],
      "execution_count": null,
      "outputs": [
        {
          "output_type": "stream",
          "text": [
            "result :  [[1.]]\n",
            "neighbours : [[1. 1. 0.]]\n",
            "distance:  [[101. 117. 125.]]\n",
            "1.0\n"
          ],
          "name": "stdout"
        },
        {
          "output_type": "display_data",
          "data": {
            "image/png": "[encoded data removed]",
            "text/plain": [
              "<Figure size 432x288 with 1 Axes>"
            ]
          },
          "metadata": {
            "tags": [],
            "needs_background": "light"
          }
        }
      ]
    }
  ]
}
