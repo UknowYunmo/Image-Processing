{
  "nbformat": 4,
  "nbformat_minor": 0,
  "metadata": {
    "colab": {
      "name": "Untitled7.ipynb",
      "provenance": [],
      "authorship_tag": "ABX9TyMM1HyB+qaL3+FmQyn/AI2c",
      "include_colab_link": true
    },
    "kernelspec": {
      "name": "python3",
      "display_name": "Python 3"
    }
  },
  "cells": [
    {
      "cell_type": "markdown",
      "metadata": {
        "id": "view-in-github",
        "colab_type": "text"
      },
      "source": [
        "<a href=\"https://colab.research.google.com/github/UknowYunmo/Image-Processing/blob/main/07-OpenCV_Tracker_%EC%83%89%EC%83%81%EC%B0%B8%EA%B3%A0%EC%9A%A9(%EC%8A%A4%ED%8C%8C%EC%9D%B4%EB%8D%94%ED%99%98%EA%B2%BD).ipynb\" target=\"_parent\"><img src=\"https://colab.research.google.com/assets/colab-badge.svg\" alt=\"Open In Colab\"/></a>"
      ]
    },
    {
      "cell_type": "markdown",
      "metadata": {
        "id": "k7MaqNq2TVyJ"
      },
      "source": [
        "cv2.createTracker(track_bar, name, window_name, value, count, on_change) # Tracker를 생성하는 함수\r\n",
        "\r\n",
        "- value: 초기 값\r\n",
        "- count: Max 값 (Min: 0)\r\n",
        "- on_change: 값이 변경될 때 호출되는 Callback 함수\r\n",
        "- cv2.getTrackerPos(track_bar, name, window_name): Tracker로부터 값을 얻어 오는 함수"
      ]
    },
    {
      "cell_type": "markdown",
      "metadata": {
        "id": "NpV2FE78TxyH"
      },
      "source": [
        "이건 반응형 윈도우 창을 띄워야하기 때문에 스파이더나 파이참 같은 프로그램에서 사용해야 진가를 발휘한다"
      ]
    },
    {
      "cell_type": "code",
      "metadata": {
        "id": "D8R1TNd0TSix"
      },
      "source": [
        "import cv2\r\n",
        "import numpy as np\r\n",
        "\r\n",
        "def change_color(x):\r\n",
        "  r = cv2.getTrackbarPos(\"R\", \"Image\")\r\n",
        "  g = cv2.getTrackbarPos(\"G\", \"Image\")\r\n",
        "  b = cv2.getTrackbarPos(\"B\", \"Image\")\r\n",
        "  image[:] = [b, g, r]\r\n",
        "  cv2.imshow('Image', image)\r\n",
        "  \r\n",
        "image = np.zeros((600, 400, 3), np.uint8)\r\n",
        "cv2.namedWindow(\"Image\")\r\n",
        "\r\n",
        "cv2.createTrackbar(\"R\", \"Image\", 0, 255, change_color)\r\n",
        "cv2.createTrackbar(\"G\", \"Image\", 0, 255, change_color)\r\n",
        "cv2.createTrackbar(\"B\", \"Image\", 0, 255, change_color)\r\n",
        "\r\n",
        "cv2.imshow('Image', image)\r\n",
        "cv2.waitKey(0)"
      ],
      "execution_count": null,
      "outputs": []
    }
  ]
}