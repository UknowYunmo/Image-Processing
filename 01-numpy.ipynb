{
  "nbformat": 4,
  "nbformat_minor": 0,
  "metadata": {
    "colab": {
      "name": "Untitled1.ipynb",
      "provenance": [],
      "authorship_tag": "ABX9TyO/ywJr64j0Kh0ggxCNRnsS",
      "include_colab_link": true
    },
    "kernelspec": {
      "name": "python3",
      "display_name": "Python 3"
    }
  },
  "cells": [
    {
      "cell_type": "markdown",
      "metadata": {
        "id": "view-in-github",
        "colab_type": "text"
      },
      "source": [
        "<a href=\"https://colab.research.google.com/github/UknowYunmo/Image-Processing/blob/main/01-numpy.ipynb\" target=\"_parent\"><img src=\"https://colab.research.google.com/assets/colab-badge.svg\" alt=\"Open In Colab\"/></a>"
      ]
    },
    {
      "cell_type": "code",
      "metadata": {
        "colab": {
          "base_uri": "https://localhost:8080/"
        },
        "id": "lbxzhxSO5VKM",
        "outputId": "0bb1236f-8f5c-4b16-ccc8-395b6b1cc57f"
      },
      "source": [
        "list_data=[1,2,3]\r\n",
        "print(list_data)\r\n",
        "\r\n",
        "import numpy as np\r\n",
        "array=np.array(list_data)\r\n",
        "print(array)\r\n",
        "print(array.size)\r\n",
        "print(array.dtype)\r\n",
        "print(array[1])"
      ],
      "execution_count": 2,
      "outputs": [
        {
          "output_type": "stream",
          "text": [
            "[1, 2, 3]\n",
            "[1 2 3]\n",
            "3\n",
            "int64\n",
            "2\n"
          ],
          "name": "stdout"
        }
      ]
    },
    {
      "cell_type": "code",
      "metadata": {
        "colab": {
          "base_uri": "https://localhost:8080/"
        },
        "id": "B1k34q39g113",
        "outputId": "0e8af9ab-b00a-4e1f-aa52-181ebd953704"
      },
      "source": [
        "array1=np.arange(4)\r\n",
        "print(array1)\r\n",
        "\r\n",
        "array2=np.zeros((4,4),dtype=int)\r\n",
        "print(array2)\r\n",
        "\r\n",
        "array3=np.zeros((4,4),dtype=float)\r\n",
        "print(array3)\r\n",
        "\r\n",
        "array4=np.random.randint(0,10,(3,3)) # 0부터 9까지 3x3 배열로 생성\r\n",
        "print(array4)\r\n",
        "\r\n",
        "array5=np.random.normal(0,1,(3,3)) # 평균이 0이고, 표준편차가 1인 표준 정규분포를 따르는 3x3 배열 생성\r\n",
        "print(array5)"
      ],
      "execution_count": 3,
      "outputs": [
        {
          "output_type": "stream",
          "text": [
            "[0 1 2 3]\n",
            "[[0 0 0 0]\n",
            " [0 0 0 0]\n",
            " [0 0 0 0]\n",
            " [0 0 0 0]]\n",
            "[[0. 0. 0. 0.]\n",
            " [0. 0. 0. 0.]\n",
            " [0. 0. 0. 0.]\n",
            " [0. 0. 0. 0.]]\n",
            "[[5 2 0]\n",
            " [6 1 6]\n",
            " [9 4 6]]\n",
            "[[-0.48012254 -1.05344922 -1.18182318]\n",
            " [-1.19950411  1.05173746 -1.46090864]\n",
            " [ 0.10701082  1.51959596  0.52172423]]\n"
          ],
          "name": "stdout"
        }
      ]
    },
    {
      "cell_type": "code",
      "metadata": {
        "colab": {
          "base_uri": "https://localhost:8080/"
        },
        "id": "rjFMAFYrg3TB",
        "outputId": "391da1d1-5a4a-49ac-8012-323897b2e038"
      },
      "source": [
        "array1=np.array([1,2,3,4])\r\n",
        "array2=array1.reshape((2,2)) # 행열 변환\r\n",
        "print(array2)\r\n",
        "\r\n",
        "array1=np.array([1,2,3])\r\n",
        "array2=np.array([4,5,6])\r\n",
        "array3=np.concatenate([array1,array2]) # 위 아래로 붙이기\r\n",
        "print(array3)\r\n",
        "print(array3.shape)\r\n",
        "\r\n",
        "array1=np.arange(8).reshape(2,4) # 0~7을 쭉 쓰고, 2x4로 변환\r\n",
        "print(array1)\r\n",
        "array2=np.arange(4).reshape(1,4)\r\n",
        "print(array2)\r\n",
        "array3=np.concatenate([array1,array2],axis=0) # 위 아래로 붙이기\r\n",
        "print(array3)\r\n",
        "\r\n",
        "array1=np.arange(8).reshape(2,4)\r\n",
        "print(array1)\r\n",
        "left,right=np.split(array1,[3],axis=1) # 열 기준 3번째를 기준으로 행열 나누기, axis=0 -> 행 기준\r\n",
        "print(left.shape)\r\n",
        "print(right.shape)\r\n",
        "print(left)\r\n",
        "print(right)"
      ],
      "execution_count": 16,
      "outputs": [
        {
          "output_type": "stream",
          "text": [
            "[[1 2]\n",
            " [3 4]]\n",
            "[1 2 3 4 5 6]\n",
            "(6,)\n",
            "[[0 1 2 3]\n",
            " [4 5 6 7]]\n",
            "[[0 1 2 3]]\n",
            "[[0 1 2 3]\n",
            " [4 5 6 7]\n",
            " [0 1 2 3]]\n",
            "[[0 1 2 3]\n",
            " [4 5 6 7]]\n",
            "(2, 3)\n",
            "(2, 1)\n",
            "[[0 1 2]\n",
            " [4 5 6]]\n",
            "[[3]\n",
            " [7]]\n"
          ],
          "name": "stdout"
        }
      ]
    },
    {
      "cell_type": "markdown",
      "metadata": {
        "id": "G16tFCMbk_Ap"
      },
      "source": [
        "배열과 상수끼리 연산이 이루어지면 모든 요소에 동일한 연산이 수행된다. 이 때 상수를 스칼라 값이라 한다."
      ]
    },
    {
      "cell_type": "code",
      "metadata": {
        "colab": {
          "base_uri": "https://localhost:8080/"
        },
        "id": "Q8N4szePkB-N",
        "outputId": "0a87a5c4-0950-4fc1-b610-52ed0ca016af"
      },
      "source": [
        "array=np.random.randint(1,10,size=4)\r\n",
        "print(array)\r\n",
        "array=array.reshape(2,2)\r\n",
        "print(array)\r\n",
        "\r\n",
        "result=array+10\r\n",
        "print(result)\r\n",
        "\r\n",
        "result=array*2\r\n",
        "print(result)"
      ],
      "execution_count": 20,
      "outputs": [
        {
          "output_type": "stream",
          "text": [
            "[2 8 1 8]\n",
            "[[2 8]\n",
            " [1 8]]\n",
            "[[12 18]\n",
            " [11 18]]\n",
            "[[ 4 16]\n",
            " [ 2 16]]\n"
          ],
          "name": "stdout"
        }
      ]
    },
    {
      "cell_type": "markdown",
      "metadata": {
        "id": "NTIR7d1Ik88u"
      },
      "source": [
        "서로 다른 형태의 배열을 연산할 때는 행 우선으로 수행된다. 이것을 브로드캐스팅이라 한다.\r\n",
        "\r\n",
        "브로드캐스트 : 형태가 다른 배열을 연산할 수 있도록 배열의 형태를 동적으로 변환\r\n",
        "\r\n",
        "해보니까 행,열 중 둘 중 하나는 맞아떨어져야 브로드캐스팅이 되고 둘 다 다르면 오류가 발생한다."
      ]
    },
    {
      "cell_type": "code",
      "metadata": {
        "colab": {
          "base_uri": "https://localhost:8080/"
        },
        "id": "igQEyJb_kfa2",
        "outputId": "2e88337b-a87c-468e-e49a-4eac9d9b75fb"
      },
      "source": [
        "array1=np.arange(4).reshape(2,2) #(2x2)\r\n",
        "array2=np.arange(2) #(1x2)\r\n",
        "print(array1,array2)\r\n",
        "\r\n",
        "array3=array1+array2\r\n",
        "print(array3)\r\n",
        "\r\n",
        "array1=np.arange(0,16).reshape(4,4)\r\n",
        "array2=np.arange(0,4).reshape(4,1)\r\n",
        "print(array1)\r\n",
        "print(array2)\r\n",
        "print(array1+array2)"
      ],
      "execution_count": 31,
      "outputs": [
        {
          "output_type": "stream",
          "text": [
            "[[0 1]\n",
            " [2 3]] [0 1]\n",
            "[[0 2]\n",
            " [2 4]]\n",
            "[[ 0  1  2  3]\n",
            " [ 4  5  6  7]\n",
            " [ 8  9 10 11]\n",
            " [12 13 14 15]]\n",
            "[[0]\n",
            " [1]\n",
            " [2]\n",
            " [3]]\n",
            "[[ 0  1  2  3]\n",
            " [ 5  6  7  8]\n",
            " [10 11 12 13]\n",
            " [15 16 17 18]]\n"
          ],
          "name": "stdout"
        }
      ]
    },
    {
      "cell_type": "markdown",
      "metadata": {
        "id": "QHEq1Hrsm13n"
      },
      "source": [
        "마스킹 연산 : 행열의 각 원소에 대해 조건에 따라 체크한다\r\n",
        "\r\n",
        "이를 활용하면, 요소별로 조건을 체크해서 비교하지 않고 한 번에 처리할 수 있다"
      ]
    },
    {
      "cell_type": "code",
      "metadata": {
        "colab": {
          "base_uri": "https://localhost:8080/"
        },
        "id": "tWY6lVACm6BA",
        "outputId": "1e58d4c6-b7ff-4a51-ea62-60f0cacdc3f8"
      },
      "source": [
        "array1=np.arange(16).reshape(4,4)\r\n",
        "print(array1)\r\n",
        "\r\n",
        "array2=array1<10\r\n",
        "print(array2)\r\n",
        "\r\n",
        "print(array2[1,:]) # 1열 슬라이싱\r\n",
        "print(array2[:,1]) # 1행 슬라이싱\r\n",
        "\r\n",
        "array1[array2]=100 # 10보다 큰 요소 값만 100으로 변환\r\n",
        "print(array1)\r\n",
        "\r\n",
        "# 집계 함수\r\n",
        "print(np.max(array1))\r\n",
        "print(np.min(array1))\r\n",
        "print(np.sum(array1))\r\n",
        "print(np.mean(array1))\r\n",
        "\r\n",
        "print(np.sum(array1,axis=0)) # 행별로 집계함수도 가능"
      ],
      "execution_count": 66,
      "outputs": [
        {
          "output_type": "stream",
          "text": [
            "[[ 0  1  2  3]\n",
            " [ 4  5  6  7]\n",
            " [ 8  9 10 11]\n",
            " [12 13 14 15]]\n",
            "[[ True  True  True  True]\n",
            " [ True  True  True  True]\n",
            " [ True  True False False]\n",
            " [False False False False]]\n",
            "[ True  True  True  True]\n",
            "[ True  True  True False]\n",
            "[[100 100 100 100]\n",
            " [100 100 100 100]\n",
            " [100 100  10  11]\n",
            " [ 12  13  14  15]]\n",
            "100\n",
            "10\n",
            "1075\n",
            "67.1875\n",
            "[312 313 224 226]\n"
          ],
          "name": "stdout"
        }
      ]
    },
    {
      "cell_type": "markdown",
      "metadata": {
        "id": "qTGRLaY0tVPA"
      },
      "source": [
        "배열을 파일로 저장할 수도 있고, 복합 배열도 저장할 수 있다.\r\n",
        "\r\n",
        "인덱싱으로 불러올 수 있는데, 아직 인덱싱할 때 이름을 호출하는 방법은 찾을 수 없었다. 그러니 복합 배열을 저장할 때는 파일명에 인덱싱할 때 쓸 이름을 같이 넣거나 통일시키는 게 좋을 거 같다."
      ]
    },
    {
      "cell_type": "code",
      "metadata": {
        "colab": {
          "base_uri": "https://localhost:8080/"
        },
        "id": "yRH9Yvk7sICO",
        "outputId": "00c763cd-82f3-4eb7-ab08-01ebc8e2fedd"
      },
      "source": [
        "array=np.arange(0,10)\r\n",
        "np.save('saved.npy',array) # 해당 배열을 'saved.npy'라는 파일로 저장\r\n",
        "\r\n",
        "result=np.load('saved.npy')\r\n",
        "print(result)\r\n",
        "\r\n",
        "array1=np.arange(0,10)\r\n",
        "array2=np.arange(10,20)\r\n",
        "np.savez('saved.npz',saved_array1=array1,saved_array2=array2)\r\n",
        "data=np.load('saved.npz')\r\n",
        "print(data)\r\n",
        "print(data['saved_array1'])\r\n",
        "print(data['saved_array2'])"
      ],
      "execution_count": 75,
      "outputs": [
        {
          "output_type": "stream",
          "text": [
            "[0 1 2 3 4 5 6 7 8 9]\n",
            "<numpy.lib.npyio.NpzFile object at 0x7f6555964550>\n",
            "[0 1 2 3 4 5 6 7 8 9]\n",
            "[10 11 12 13 14 15 16 17 18 19]\n"
          ],
          "name": "stdout"
        }
      ]
    },
    {
      "cell_type": "code",
      "metadata": {
        "id": "iVsYAopWz8iN"
      },
      "source": [
        "concatenate 연습 중에 좀 이상한걸 발견했다.\r\n",
        "위 예시의 경우 axis=0으로 했는데 위아래로 안 붙고 계속 옆으로 붙는다."
      ],
      "execution_count": null,
      "outputs": []
    },
    {
      "cell_type": "code",
      "metadata": {
        "colab": {
          "base_uri": "https://localhost:8080/"
        },
        "id": "gFQ4UmQMvF5X",
        "outputId": "c830201c-7070-4061-c8d9-68dd8d6bc0b8"
      },
      "source": [
        "array1=np.array([5,9,10,3,1])\r\n",
        "array2=np.array([5,9,10,3,1])\r\n",
        "array3=np.concatenate([array1,array2],axis=0)\r\n",
        "print(array3)"
      ],
      "execution_count": 104,
      "outputs": [
        {
          "output_type": "stream",
          "text": [
            "[ 5  9 10  3  1  5  9 10  3  1]\n"
          ],
          "name": "stdout"
        }
      ]
    },
    {
      "cell_type": "markdown",
      "metadata": {
        "id": "jRknacaR0KAB"
      },
      "source": [
        "아무리 찾아봐도 맞는데 출력은 이렇게 되서, hstack과 vstack을 알게 되었다.\r\n",
        "\r\n",
        "hstack : 옆으로 붙이기\r\n",
        "\r\n",
        "vstack : 위아래로 붙이기"
      ]
    },
    {
      "cell_type": "code",
      "metadata": {
        "colab": {
          "base_uri": "https://localhost:8080/"
        },
        "id": "_nLUi5Md0T6C",
        "outputId": "818bc00a-ce4a-4a50-e488-0ea3faafaf6c"
      },
      "source": [
        "array1=np.array([5,9,10,3,1])\r\n",
        "array2=np.array([5,9,10,3,1])\r\n",
        "array3=np.vstack([array1,array2]) # 위아래\r\n",
        "print(array3)\r\n",
        "print()\r\n",
        "array3=np.hstack([array1,array2]) # 옆\r\n",
        "print(array3)"
      ],
      "execution_count": 106,
      "outputs": [
        {
          "output_type": "stream",
          "text": [
            "[[ 5  9 10  3  1]\n",
            " [ 5  9 10  3  1]]\n",
            "\n",
            "[ 5  9 10  3  1  5  9 10  3  1]\n"
          ],
          "name": "stdout"
        }
      ]
    },
    {
      "cell_type": "markdown",
      "metadata": {
        "id": "qX3b-_di1Mry"
      },
      "source": [
        "정렬도 가능. 또한 axis 값으로 행열 별로도 가능."
      ]
    },
    {
      "cell_type": "code",
      "metadata": {
        "colab": {
          "base_uri": "https://localhost:8080/"
        },
        "id": "Sff-mBxttrXx",
        "outputId": "9768fad3-8758-4b04-98c4-2442b3a06af8"
      },
      "source": [
        "array=np.array([5,9,10,3,1])\r\n",
        "array.sort() # 정렬\r\n",
        "print(array)\r\n",
        "print(array[::-1]) # 내림차순\r\n",
        "\r\n",
        "array=np.array([[5,9,10,3,1],[8,3,4,2,5]])\r\n",
        "print(array)\r\n",
        "array.sort(axis=0)\r\n",
        "print(array)"
      ],
      "execution_count": 108,
      "outputs": [
        {
          "output_type": "stream",
          "text": [
            "[ 1  3  5  9 10]\n",
            "[10  9  5  3  1]\n",
            "[[ 5  9 10  3  1]\n",
            " [ 8  3  4  2  5]]\n",
            "[[ 5  3  4  2  1]\n",
            " [ 8  9 10  3  5]]\n"
          ],
          "name": "stdout"
        }
      ]
    },
    {
      "cell_type": "markdown",
      "metadata": {
        "id": "QLdBeny61fOJ"
      },
      "source": [
        "균일한 간격으로 데이터를 생성할 수도 있고, 시드 값을 설정할 수도 있다."
      ]
    },
    {
      "cell_type": "code",
      "metadata": {
        "colab": {
          "base_uri": "https://localhost:8080/"
        },
        "id": "3xcBtzQN1aHM",
        "outputId": "ef2d070e-e4bf-4105-f75f-bc256680ec15"
      },
      "source": [
        "array=np.linspace(0,10,5) # 0부터 10까지 동일한 간격으로 5개 요소를 만들어라\r\n",
        "print(array)\r\n",
        "\r\n",
        "np.random.seed(7) # 랜덤 고정\r\n",
        "print(np.random.randint(0,10,(2,3)))"
      ],
      "execution_count": 110,
      "outputs": [
        {
          "output_type": "stream",
          "text": [
            "[ 0.   2.5  5.   7.5 10. ]\n",
            "[[4 9 6]\n",
            " [3 3 7]]\n"
          ],
          "name": "stdout"
        }
      ]
    },
    {
      "cell_type": "markdown",
      "metadata": {
        "id": "qHRMcWMs3I4s"
      },
      "source": [
        "numpy를 =으로 복사하면 복사한 곳의 요소를 수정했을 때 원본까지 같이 수정이 된다 ( 깊은 복사 ㅠㅠ )\r\n",
        "이러한 사태를 막기 위해 복사할 때는 copy()를 써야한다."
      ]
    },
    {
      "cell_type": "code",
      "metadata": {
        "colab": {
          "base_uri": "https://localhost:8080/"
        },
        "id": "SC4PhcVt2DDp",
        "outputId": "d2a68f72-dfc2-46de-f9d4-b3e68b4479d7"
      },
      "source": [
        "array1=np.arange(0,10)\r\n",
        "array2=array1\r\n",
        "array2[0]=99\r\n",
        "print(array1)\r\n",
        "\r\n",
        "array3=array1.copy()\r\n",
        "array3[0]=999\r\n",
        "print(array1) # 99 그대로"
      ],
      "execution_count": 123,
      "outputs": [
        {
          "output_type": "stream",
          "text": [
            "[99  1  2  3  4  5  6  7  8  9]\n",
            "[99  1  2  3  4  5  6  7  8  9]\n"
          ],
          "name": "stdout"
        }
      ]
    },
    {
      "cell_type": "markdown",
      "metadata": {
        "id": "RmuRGuPdlYTP"
      },
      "source": [
        ""
      ]
    }
  ]
}